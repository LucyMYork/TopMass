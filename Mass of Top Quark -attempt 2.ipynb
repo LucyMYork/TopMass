{
 "cells": [
  {
   "cell_type": "code",
   "execution_count": null,
   "metadata": {},
   "outputs": [],
   "source": [
    "import ROOT\n",
    "from ROOT import TObject, TH1F, array, TMath\n",
    "import numpy as np\n",
    "\n",
    "#from root you can import TH1F whcih we will use to make histograms and other useful fucntions\n",
    "\n",
    "%jsroot on"
   ]
  },
  {
   "cell_type": "code",
   "execution_count": null,
   "metadata": {},
   "outputs": [],
   "source": [
    "f = ROOT.TFile.Open(\"https://atlas-opendata.web.cern.ch/atlas-opendata/samples/2020/1lep/MC/mc_410000.ttbar_lep.1lep.root\")\n",
    "tree=f.Get('mini')"
   ]
  },
  {
   "cell_type": "code",
   "execution_count": null,
   "metadata": {},
   "outputs": [],
   "source": [
    "canvas=ROOT.TCanvas(\"Canvas\",\"Mass of Top Quark\",800,600)\n",
    "hist=ROOT.TH1F(\"HistTop\", \"Mass of Top Quark {M_top}; Transverse Mass (GeV); Number of Events\",400,0,400)"
   ]
  },
  {
   "cell_type": "code",
   "execution_count": 1,
   "metadata": {},
   "outputs": [
    {
     "ename": "NameError",
     "evalue": "name 'tree' is not defined",
     "output_type": "error",
     "traceback": [
      "\u001b[1;31m---------------------------------------------------------------------------\u001b[0m",
      "\u001b[1;31mNameError\u001b[0m                                 Traceback (most recent call last)",
      "\u001b[1;32m<ipython-input-1-d75711987307>\u001b[0m in \u001b[0;36m<module>\u001b[1;34m\u001b[0m\n\u001b[0;32m      2\u001b[0m \u001b[1;33m\u001b[0m\u001b[0m\n\u001b[0;32m      3\u001b[0m \u001b[0mn\u001b[0m\u001b[1;33m=\u001b[0m\u001b[1;36m0\u001b[0m\u001b[1;33m\u001b[0m\u001b[1;33m\u001b[0m\u001b[0m\n\u001b[1;32m----> 4\u001b[1;33m \u001b[1;32mfor\u001b[0m \u001b[0mevent\u001b[0m \u001b[1;32min\u001b[0m \u001b[0mtree\u001b[0m\u001b[1;33m:\u001b[0m\u001b[1;33m\u001b[0m\u001b[1;33m\u001b[0m\u001b[0m\n\u001b[0m\u001b[0;32m      5\u001b[0m     \u001b[0mn\u001b[0m\u001b[1;33m+=\u001b[0m\u001b[1;36m1\u001b[0m\u001b[1;33m\u001b[0m\u001b[1;33m\u001b[0m\u001b[0m\n\u001b[0;32m      6\u001b[0m     \u001b[1;31m#increments the event number\u001b[0m\u001b[1;33m\u001b[0m\u001b[1;33m\u001b[0m\u001b[1;33m\u001b[0m\u001b[0m\n",
      "\u001b[1;31mNameError\u001b[0m: name 'tree' is not defined"
     ]
    }
   ],
   "source": [
    "#for the top quark mass combine the masses of the W, the electron and the b jet \n",
    "\n",
    "n=0\n",
    "for event in tree:\n",
    "    n+=1\n",
    "    #increments the event number\n",
    "    if n%100000==0:\n",
    "        print(n)\n",
    "        #will print every 100,000 event\n",
    "        \n",
    "    if event.lep_n==0:\n",
    "        continue\n",
    "        #if the number of leptons in the event is 0 then continue to next event\n",
    "        \n",
    "        \n",
    "    #mass of the b jet\n",
    "    x=len(tree.jet_trueflav)\n",
    "    #define x as being the length of the vector \n",
    "    if x>=1:\n",
    "        #print(x)\n",
    "        y=0\n",
    "        #set y as the counting variable in the next loop\n",
    "        while y<x:\n",
    "            if tree.jet_trueflav[y]==5:\n",
    "                #when the jets are b jets, find the transvers emass of the top quark \n",
    "                \n",
    "                energy_b=(event.jet_E[y])/1000.0\n",
    "                #energy and mass of the b jet\n",
    "                Mt_b=np.sqrt((energy_b**2-(event.jet_pt[y]/1000.0)))\n",
    "                \n",
    "                \n",
    "                #transverse mass of the neutrino\n",
    "                energy_nu=(event.met_et)/1000.0\n",
    "                metx=(event.met_et*np.cos(event.met_phi))/1000.0\n",
    "                mety=(event.met_et*np.sin(event.met_phi))/1000.0\n",
    "                \n",
    "                Mt_nu=np.sqrt(energy_nu**2-metx**2-mety**2)\n",
    "                #mass of the neutrino\n",
    "\n",
    "\n",
    "                #transverse mass of the W boson\n",
    "                lepx=(event.lep_pt[0]*np.cos(event.lep_phi[0])/1000.0)\n",
    "                lepy=(event.lep_pt[0]*np.sin(event.lep_phi[0])/1000.0)\n",
    "                metx=(event.met_et*np.cos(event.met_phi))/1000.0\n",
    "                mety=(event.met_et*np.sin(event.met_phi))/1000.0\n",
    "                energy_W=(event.lep_E[0]+event.met_et)/1000.0\n",
    "                px=lepx+metx\n",
    "                py=lepy+mety\n",
    "\n",
    "                Mt_W=np.sqrt(energy_W**2-px**2-py**2)\n",
    "\n",
    "\n",
    "                Mt_top=Mt_W+Mt_nu+Mt_b\n",
    "\n",
    "                hist.Fill(Mt_top)\n",
    "                   \n",
    "            else:\n",
    "                break\n",
    "            y+=1\n",
    "        \n",
    "    else:\n",
    "        continue\n",
    "    \n",
    "    \n",
    "    \n",
    "    \n",
    "    \n",
    "    if n>10000000:\n",
    "        break\n",
    "        #stops after 10,000,000 as there is aorund 9-10 million events\n",
    "\n",
    "        \n",
    "hist.Draw()\n",
    "canvas.Draw()"
   ]
  }
 ],
 "metadata": {
  "kernelspec": {
   "display_name": "Python 3",
   "language": "python",
   "name": "python3"
  },
  "language_info": {
   "codemirror_mode": {
    "name": "ipython",
    "version": 3
   },
   "file_extension": ".py",
   "mimetype": "text/x-python",
   "name": "python",
   "nbconvert_exporter": "python",
   "pygments_lexer": "ipython3",
   "version": "3.7.6"
  }
 },
 "nbformat": 4,
 "nbformat_minor": 4
}
